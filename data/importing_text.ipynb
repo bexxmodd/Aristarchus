{
 "cells": [
  {
   "cell_type": "code",
   "execution_count": 1,
   "metadata": {},
   "outputs": [],
   "source": [
    "import numpy as np\n",
    "import pandas as pd\n",
    "import re\n",
    "\n",
    "from metadataFromID import GoodReadsScraper\n",
    "from dataMunging import munging"
   ]
  },
  {
   "cell_type": "code",
   "execution_count": 2,
   "metadata": {},
   "outputs": [],
   "source": [
    "books = [72657, 34941133, 1300228, 20898092]"
   ]
  },
  {
   "cell_type": "code",
   "execution_count": 3,
   "metadata": {},
   "outputs": [],
   "source": [
    "first = GoodReadsScraper(books)\n",
    "y = first.html_listed()\n",
    "metadata = first.metadata()"
   ]
  },
  {
   "cell_type": "code",
   "execution_count": 4,
   "metadata": {},
   "outputs": [],
   "source": [
    "df = pd.DataFrame.from_dict(metadata)"
   ]
  },
  {
   "cell_type": "code",
   "execution_count": 5,
   "metadata": {},
   "outputs": [
    {
     "data": {
      "text/html": [
       "<div>\n",
       "<style scoped>\n",
       "    .dataframe tbody tr th:only-of-type {\n",
       "        vertical-align: middle;\n",
       "    }\n",
       "\n",
       "    .dataframe tbody tr th {\n",
       "        vertical-align: top;\n",
       "    }\n",
       "\n",
       "    .dataframe thead th {\n",
       "        text-align: right;\n",
       "    }\n",
       "</style>\n",
       "<table border=\"1\" class=\"dataframe\">\n",
       "  <thead>\n",
       "    <tr style=\"text-align: right;\">\n",
       "      <th></th>\n",
       "      <th>book_id</th>\n",
       "      <th>author</th>\n",
       "      <th>title</th>\n",
       "      <th>genre</th>\n",
       "      <th>isbn13</th>\n",
       "      <th>pages</th>\n",
       "      <th>released</th>\n",
       "      <th>edition</th>\n",
       "      <th>rating</th>\n",
       "      <th>count</th>\n",
       "    </tr>\n",
       "  </thead>\n",
       "  <tbody>\n",
       "    <tr>\n",
       "      <th>0</th>\n",
       "      <td>72657</td>\n",
       "      <td>Paulo Freire</td>\n",
       "      <td>\\n      Pedagogy of the Oppressed\\n</td>\n",
       "      <td>[[Education], [Nonfiction], [Philosophy]]</td>\n",
       "      <td>9780826412768</td>\n",
       "      <td>192 pages</td>\n",
       "      <td>\\n              (first published 1968)\\n      ...</td>\n",
       "      <td>Paperback</td>\n",
       "      <td>\\n  4.28\\n</td>\n",
       "      <td>\\n  23,326\\n  ratings\\n</td>\n",
       "    </tr>\n",
       "    <tr>\n",
       "      <th>1</th>\n",
       "      <td>34941133</td>\n",
       "      <td>Ray Dalio</td>\n",
       "      <td>\\n      Principles: Life and Work\\n</td>\n",
       "      <td>[[Business], [Nonfiction], [Self Help]]</td>\n",
       "      <td>B071CTK28D</td>\n",
       "      <td>593 pages</td>\n",
       "      <td>\\n              (first published 2011)\\n      ...</td>\n",
       "      <td>Kindle Edition</td>\n",
       "      <td>\\n  4.17\\n</td>\n",
       "      <td>\\n  25,603\\n  ratings\\n</td>\n",
       "    </tr>\n",
       "    <tr>\n",
       "      <th>2</th>\n",
       "      <td>1300228</td>\n",
       "      <td>Kevin   Marshall</td>\n",
       "      <td>\\n      Pro Active Record: Databases with Ruby...</td>\n",
       "      <td>[[Computer Science], [Programming], [Science]]</td>\n",
       "      <td>9781590598474</td>\n",
       "      <td>280 pages</td>\n",
       "      <td>\\n              (first published January 1st 2...</td>\n",
       "      <td>Paperback</td>\n",
       "      <td>\\n  2.74\\n</td>\n",
       "      <td>\\n  27\\n  ratings\\n</td>\n",
       "    </tr>\n",
       "    <tr>\n",
       "      <th>3</th>\n",
       "      <td>20898092</td>\n",
       "      <td>Charlotte Brontë</td>\n",
       "      <td>\\n      Jane Eyre\\n</td>\n",
       "      <td>[[Classics], [Fiction], [Romance]]</td>\n",
       "      <td>9781631060182</td>\n",
       "      <td>528 pages</td>\n",
       "      <td>\\n              (first published October 16th ...</td>\n",
       "      <td>Paperback</td>\n",
       "      <td>\\n  4.12\\n</td>\n",
       "      <td>\\n  1,569,749\\n  ratings\\n</td>\n",
       "    </tr>\n",
       "  </tbody>\n",
       "</table>\n",
       "</div>"
      ],
      "text/plain": [
       "    book_id            author  \\\n",
       "0     72657      Paulo Freire   \n",
       "1  34941133         Ray Dalio   \n",
       "2   1300228  Kevin   Marshall   \n",
       "3  20898092  Charlotte Brontë   \n",
       "\n",
       "                                               title  \\\n",
       "0                \\n      Pedagogy of the Oppressed\\n   \n",
       "1                \\n      Principles: Life and Work\\n   \n",
       "2  \\n      Pro Active Record: Databases with Ruby...   \n",
       "3                                \\n      Jane Eyre\\n   \n",
       "\n",
       "                                            genre         isbn13      pages  \\\n",
       "0       [[Education], [Nonfiction], [Philosophy]]  9780826412768  192 pages   \n",
       "1         [[Business], [Nonfiction], [Self Help]]     B071CTK28D  593 pages   \n",
       "2  [[Computer Science], [Programming], [Science]]  9781590598474  280 pages   \n",
       "3              [[Classics], [Fiction], [Romance]]  9781631060182  528 pages   \n",
       "\n",
       "                                            released         edition  \\\n",
       "0  \\n              (first published 1968)\\n      ...       Paperback   \n",
       "1  \\n              (first published 2011)\\n      ...  Kindle Edition   \n",
       "2  \\n              (first published January 1st 2...       Paperback   \n",
       "3  \\n              (first published October 16th ...       Paperback   \n",
       "\n",
       "       rating                       count  \n",
       "0  \\n  4.28\\n     \\n  23,326\\n  ratings\\n  \n",
       "1  \\n  4.17\\n     \\n  25,603\\n  ratings\\n  \n",
       "2  \\n  2.74\\n         \\n  27\\n  ratings\\n  \n",
       "3  \\n  4.12\\n  \\n  1,569,749\\n  ratings\\n  "
      ]
     },
     "execution_count": 5,
     "metadata": {},
     "output_type": "execute_result"
    }
   ],
   "source": [
    "df"
   ]
  },
  {
   "cell_type": "markdown",
   "metadata": {},
   "source": [
    "### Wuuuuuuuusaaaa"
   ]
  },
  {
   "cell_type": "code",
   "execution_count": 6,
   "metadata": {},
   "outputs": [
    {
     "name": "stderr",
     "output_type": "stream",
     "text": [
      "C:\\Users\\Hellrox\\Desktop\\Projects\\Aristarchus\\data\\dataMunging.py:14: SettingWithCopyWarning: \n",
      "A value is trying to be set on a copy of a slice from a DataFrame\n",
      "\n",
      "See the caveats in the documentation: https://pandas.pydata.org/pandas-docs/stable/user_guide/indexing.html#returning-a-view-versus-a-copy\n",
      "  df['genre'][i] = ', '.join(g)\n"
     ]
    }
   ],
   "source": [
    "df = munging(df)"
   ]
  },
  {
   "cell_type": "code",
   "execution_count": 7,
   "metadata": {},
   "outputs": [
    {
     "data": {
      "text/html": [
       "<div>\n",
       "<style scoped>\n",
       "    .dataframe tbody tr th:only-of-type {\n",
       "        vertical-align: middle;\n",
       "    }\n",
       "\n",
       "    .dataframe tbody tr th {\n",
       "        vertical-align: top;\n",
       "    }\n",
       "\n",
       "    .dataframe thead th {\n",
       "        text-align: right;\n",
       "    }\n",
       "</style>\n",
       "<table border=\"1\" class=\"dataframe\">\n",
       "  <thead>\n",
       "    <tr style=\"text-align: right;\">\n",
       "      <th></th>\n",
       "      <th>book_id</th>\n",
       "      <th>author</th>\n",
       "      <th>title</th>\n",
       "      <th>genre</th>\n",
       "      <th>isbn13</th>\n",
       "      <th>pages</th>\n",
       "      <th>released</th>\n",
       "      <th>edition</th>\n",
       "      <th>rating</th>\n",
       "      <th>count</th>\n",
       "    </tr>\n",
       "  </thead>\n",
       "  <tbody>\n",
       "    <tr>\n",
       "      <th>0</th>\n",
       "      <td>72657</td>\n",
       "      <td>Paulo Freire</td>\n",
       "      <td>Pedagogy of the Oppressed</td>\n",
       "      <td>Education, Nonfiction, Philosophy</td>\n",
       "      <td>9780826412768</td>\n",
       "      <td>192</td>\n",
       "      <td>1968</td>\n",
       "      <td>Paperback</td>\n",
       "      <td>4.28</td>\n",
       "      <td>23326</td>\n",
       "    </tr>\n",
       "    <tr>\n",
       "      <th>1</th>\n",
       "      <td>34941133</td>\n",
       "      <td>Ray Dalio</td>\n",
       "      <td>Principles: Life and Work</td>\n",
       "      <td>Business, Nonfiction</td>\n",
       "      <td>B071CTK28D</td>\n",
       "      <td>593</td>\n",
       "      <td>2011</td>\n",
       "      <td>Kindle Edition</td>\n",
       "      <td>4.17</td>\n",
       "      <td>25603</td>\n",
       "    </tr>\n",
       "    <tr>\n",
       "      <th>2</th>\n",
       "      <td>1300228</td>\n",
       "      <td>Kevin   Marshall</td>\n",
       "      <td>Pro Active Record: Databases with Ruby and Rails</td>\n",
       "      <td>Programming, Science</td>\n",
       "      <td>9781590598474</td>\n",
       "      <td>280</td>\n",
       "      <td>2007</td>\n",
       "      <td>Paperback</td>\n",
       "      <td>2.74</td>\n",
       "      <td>27</td>\n",
       "    </tr>\n",
       "    <tr>\n",
       "      <th>3</th>\n",
       "      <td>20898092</td>\n",
       "      <td>Charlotte Brontë</td>\n",
       "      <td>Jane Eyre</td>\n",
       "      <td>Classics, Fiction, Romance</td>\n",
       "      <td>9781631060182</td>\n",
       "      <td>528</td>\n",
       "      <td>1847</td>\n",
       "      <td>Paperback</td>\n",
       "      <td>4.12</td>\n",
       "      <td>1569749</td>\n",
       "    </tr>\n",
       "  </tbody>\n",
       "</table>\n",
       "</div>"
      ],
      "text/plain": [
       "    book_id            author  \\\n",
       "0     72657      Paulo Freire   \n",
       "1  34941133         Ray Dalio   \n",
       "2   1300228  Kevin   Marshall   \n",
       "3  20898092  Charlotte Brontë   \n",
       "\n",
       "                                              title  \\\n",
       "0                         Pedagogy of the Oppressed   \n",
       "1                         Principles: Life and Work   \n",
       "2  Pro Active Record: Databases with Ruby and Rails   \n",
       "3                                         Jane Eyre   \n",
       "\n",
       "                               genre         isbn13  pages released  \\\n",
       "0  Education, Nonfiction, Philosophy  9780826412768    192     1968   \n",
       "1               Business, Nonfiction     B071CTK28D    593     2011   \n",
       "2               Programming, Science  9781590598474    280     2007   \n",
       "3         Classics, Fiction, Romance  9781631060182    528     1847   \n",
       "\n",
       "          edition  rating    count  \n",
       "0       Paperback    4.28    23326  \n",
       "1  Kindle Edition    4.17    25603  \n",
       "2       Paperback    2.74       27  \n",
       "3       Paperback    4.12  1569749  "
      ]
     },
     "execution_count": 7,
     "metadata": {},
     "output_type": "execute_result"
    }
   ],
   "source": [
    "df"
   ]
  },
  {
   "cell_type": "code",
   "execution_count": null,
   "metadata": {},
   "outputs": [],
   "source": []
  }
 ],
 "metadata": {
  "kernelspec": {
   "display_name": "Python 3",
   "language": "python",
   "name": "python3"
  },
  "language_info": {
   "codemirror_mode": {
    "name": "ipython",
    "version": 3
   },
   "file_extension": ".py",
   "mimetype": "text/x-python",
   "name": "python",
   "nbconvert_exporter": "python",
   "pygments_lexer": "ipython3",
   "version": "3.7.7"
  }
 },
 "nbformat": 4,
 "nbformat_minor": 4
}
